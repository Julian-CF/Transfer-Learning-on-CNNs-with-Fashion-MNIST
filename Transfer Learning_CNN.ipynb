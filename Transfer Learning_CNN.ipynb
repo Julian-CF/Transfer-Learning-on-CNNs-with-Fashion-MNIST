{
  "nbformat": 4,
  "nbformat_minor": 0,
  "metadata": {
    "colab": {
      "name": "Assignement3.5.ipynb",
      "provenance": [],
      "collapsed_sections": []
    },
    "kernelspec": {
      "name": "python3",
      "display_name": "Python 3"
    }
  },
  "cells": [
    {
      "cell_type": "markdown",
      "metadata": {
        "id": "Yql_Dwfi5CsE"
      },
      "source": [
        "# Load Data"
      ]
    },
    {
      "cell_type": "code",
      "metadata": {
        "id": "wiOXlgjL43IR",
        "colab": {
          "base_uri": "https://localhost:8080/"
        },
        "outputId": "34f4177e-9f0a-48fd-bc7b-d2e082a8403d"
      },
      "source": [
        "import torch               \r\n",
        "import torchvision   \r\n",
        "import matplotlib.pyplot as plt\r\n",
        "from torch.utils.data import Dataset, DataLoader, TensorDataset\r\n",
        "import torch.autograd as autograd        \r\n",
        "from torch import Tensor              \r\n",
        "import torch.nn as nn                \r\n",
        "import torch.nn.functional as F         \r\n",
        "import torch.optim as optim           \r\n",
        "from torch.jit import script, trace  \r\n",
        "import numpy as np\r\n",
        "import seaborn as sns \r\n",
        "import matplotlib.pyplot as plt\r\n",
        "import zipfile\r\n",
        "from zipfile import ZipFile\r\n",
        "import re\r\n",
        "import gensim\r\n",
        "from gensim.test.utils import common_texts\r\n",
        "from gensim.models import Word2Vec\r\n",
        "from torch.nn.utils.rnn import pad_sequence\r\n",
        "import random\r\n",
        "import copy\r\n",
        "from tensorflow.keras.datasets import fashion_mnist\r\n",
        "from torch.autograd import Variable\r\n",
        "# Loads data\r\n",
        "(trainx, trainy), (X_test, y_test) = fashion_mnist.load_data()\r\n",
        "\r\n",
        "# Splits data\r\n",
        "input_size = X_test.shape[1] ** 2\r\n",
        "y_train = trainy[:50000]\r\n",
        "X_train = trainx[:50000]\r\n",
        "y_val = trainy[50000:]\r\n",
        "X_val = trainx[50000:]\r\n",
        "\r\n",
        "def filter(xs, ys, lbls):\r\n",
        "    idxs = [i for (i, l) in enumerate(ys) if l in lbls]\r\n",
        "    return xs[idxs, :], ys[idxs]\r\n",
        "\r\n",
        "fm1lbls = [0, 1, 4, 5, 8]\r\n",
        "X_train1, y_train1 = filter(X_train, y_train, fm1lbls)\r\n",
        "X_val1, y_val1 = filter(X_val, y_val, fm1lbls)\r\n",
        "X_test1, y_test1 = filter(X_test, y_test, fm1lbls)\r\n",
        "\r\n",
        "fm2lbls = [2, 3, 6, 7, 9]\r\n",
        "X_train2, y_train2 = filter(X_train, y_train, fm2lbls)\r\n",
        "X_val2, y_val2 = filter(X_val, y_val, fm2lbls)\r\n",
        "X_test2, y_test2 = filter(X_test, y_test, fm2lbls)\r\n",
        "\r\n"
      ],
      "execution_count": 2,
      "outputs": [
        {
          "output_type": "stream",
          "text": [
            "Downloading data from https://storage.googleapis.com/tensorflow/tf-keras-datasets/train-labels-idx1-ubyte.gz\n",
            "32768/29515 [=================================] - 0s 0us/step\n",
            "Downloading data from https://storage.googleapis.com/tensorflow/tf-keras-datasets/train-images-idx3-ubyte.gz\n",
            "26427392/26421880 [==============================] - 0s 0us/step\n",
            "Downloading data from https://storage.googleapis.com/tensorflow/tf-keras-datasets/t10k-labels-idx1-ubyte.gz\n",
            "8192/5148 [===============================================] - 0s 0us/step\n",
            "Downloading data from https://storage.googleapis.com/tensorflow/tf-keras-datasets/t10k-images-idx3-ubyte.gz\n",
            "4423680/4422102 [==============================] - 0s 0us/step\n"
          ],
          "name": "stdout"
        }
      ]
    },
    {
      "cell_type": "code",
      "metadata": {
        "id": "ESclwo23Jqol"
      },
      "source": [
        "'''Re-assigning the labels to 0-4 '''\r\n",
        "#for mnist1\r\n",
        "for i, ele in enumerate(y_train1):\r\n",
        "  if ele == 4:\r\n",
        "    y_train1[i] = 2\r\n",
        "  elif ele == 5:\r\n",
        "    y_train1[i] = 3\r\n",
        "  elif ele == 8:\r\n",
        "    y_train1[i] = 4\r\n",
        "\r\n",
        "for i, ele in enumerate(y_test1):\r\n",
        "  if ele == 4:\r\n",
        "    y_test1[i] = 2\r\n",
        "  elif ele == 5:\r\n",
        "    y_test1[i] = 3\r\n",
        "  elif ele == 8:\r\n",
        "    y_test1[i] = 4\r\n",
        "\r\n",
        "for i, ele in enumerate(y_val1):\r\n",
        "  if ele == 4:\r\n",
        "    y_val1[i] = 2\r\n",
        "  elif ele == 5:\r\n",
        "    y_val1[i] = 3\r\n",
        "  elif ele == 8:\r\n",
        "    y_val1[i] = 4\r\n",
        "\r\n",
        "#for MNIST 2\r\n",
        "for i, ele in enumerate(y_train2):\r\n",
        "  if ele == 2:\r\n",
        "    y_train2[i] = 0\r\n",
        "  elif ele == 3:\r\n",
        "    y_train2[i] = 1\r\n",
        "  elif ele == 6:\r\n",
        "    y_train2[i] = 2\r\n",
        "  elif ele == 7:\r\n",
        "    y_train2[i] = 3\r\n",
        "  elif ele == 9:\r\n",
        "    y_train2[i] = 4\r\n",
        "  \r\n",
        "\r\n",
        "for i, ele in enumerate(y_test2):\r\n",
        "  if ele == 2:\r\n",
        "    y_test2[i] = 0\r\n",
        "  elif ele == 3:\r\n",
        "    y_test2[i] = 1\r\n",
        "  elif ele == 6:\r\n",
        "    y_test2[i] = 2\r\n",
        "  elif ele == 7:\r\n",
        "    y_test2[i] = 3\r\n",
        "  elif ele == 9:\r\n",
        "    y_test2[i] = 4\r\n",
        "\r\n",
        "for i, ele in enumerate(y_val2):\r\n",
        "  if ele == 2:\r\n",
        "    y_val2[i] = 0\r\n",
        "  elif ele == 3:\r\n",
        "    y_val2[i] = 1\r\n",
        "  elif ele == 6:\r\n",
        "    y_val2[i] = 2\r\n",
        "  elif ele == 7:\r\n",
        "    y_val2[i] = 3\r\n",
        "  elif ele == 9:\r\n",
        "    y_val2[i] = 4\r\n"
      ],
      "execution_count": 3,
      "outputs": []
    },
    {
      "cell_type": "code",
      "metadata": {
        "id": "bLInuaFt7Drv"
      },
      "source": [
        "# Creates train and validation data for Dataloader\r\n",
        "\r\n",
        "X_train1 = X_train1.reshape(X_train1.shape[0],1,28,28)\r\n",
        "X_val1 = X_val1.reshape(X_val1.shape[0],1,28,28)\r\n",
        "X_test1 = X_test1.reshape(X_test1.shape[0],1,28,28)\r\n",
        "\r\n",
        "X_train2 = X_train2.reshape(X_train2.shape[0],1,28,28)\r\n",
        "X_val2 = X_val2.reshape(X_val2.shape[0],1,28,28)\r\n",
        "X_test2 = X_test2.reshape(X_test2.shape[0],1,28,28)\r\n",
        "\r\n",
        "traindata1 = []\r\n",
        "traindata2 = []\r\n",
        "for i in range(len(X_train1)):\r\n",
        "   traindata1.append([X_train1[i], y_train1[i]])\r\n",
        "for i in range(len(X_train2)):\r\n",
        "   traindata2.append([X_train2[i], y_train2[i]])\r\n",
        "\r\n",
        "valdata1 = []\r\n",
        "valdata2 = []\r\n",
        "for i in range(len(X_val1)):\r\n",
        "  valdata1.append([X_val1[i],y_val1[i]])\r\n",
        "for i in range(len(X_val2)):\r\n",
        "  valdata2.append([X_val2[i],y_val2[i]])\r\n",
        "\r\n",
        "testdata1 = []\r\n",
        "testdata2 = []\r\n",
        "for i in range(len(X_test1)):\r\n",
        "  testdata1.append([X_test1[i],y_test1[i]])\r\n",
        "for i in range(len(X_test2)):\r\n",
        "  testdata2.append([X_test2[i],y_test2[i]])\r\n"
      ],
      "execution_count": 4,
      "outputs": []
    },
    {
      "cell_type": "markdown",
      "metadata": {
        "id": "8qiydvaj4rgI"
      },
      "source": [
        "# Model "
      ]
    },
    {
      "cell_type": "code",
      "metadata": {
        "id": "G-mH5pFX2UQ2"
      },
      "source": [
        "class CNN(nn.Module):\r\n",
        "  def __init__(self):\r\n",
        "    super().__init__()\r\n",
        "    self.conv1=nn.Conv2d(1, 16, 5, padding=(1,1))\r\n",
        "    self.conv2=nn.Conv2d(16, 32, 5, padding=(1,1))\r\n",
        "    self.dropout = nn.Dropout()\r\n",
        "    self.fc1 = nn.Linear(800, 256)\r\n",
        "    self.fc2 = nn.Linear(256, 64)\r\n",
        "    self.fc3 = nn.Linear(64, 5)\r\n",
        "\r\n",
        "  def forward(self, x):\r\n",
        "    x = F.max_pool2d(F.relu(self.conv1(x)), 2)\r\n",
        "    x = F.max_pool2d(F.relu(self.conv2(x)), 2)\r\n",
        "    x = x.view(x.size(0), -1)\r\n",
        "    x = self.dropout(x)\r\n",
        "    x = F.relu(self.fc1(x))\r\n",
        "    x = F.relu(self.fc2(x))\r\n",
        "    x = self.fc3(x)\r\n",
        "\r\n",
        "    return x"
      ],
      "execution_count": 5,
      "outputs": []
    },
    {
      "cell_type": "code",
      "metadata": {
        "id": "Zyu3wHiHtdhy"
      },
      "source": [
        "# Trains model\r\n",
        "def train(learning_rate, epoch, traindata, valdata, testdata, model,device,batch):\r\n",
        "\r\n",
        "  trainloader=torch.utils.data.DataLoader(traindata,batch_size=batch,shuffle=True)\r\n",
        "  criterion=nn.CrossEntropyLoss()\r\n",
        "  optimizer=optim.Adam(model.parameters(),lr=learning_rate)\r\n",
        "\r\n",
        "  for e in range(0, epoch):\r\n",
        "    current_loss = 0.0\r\n",
        "    correct = 0\r\n",
        "    total = 0\r\n",
        "    for i, data in enumerate(trainloader, 0):\r\n",
        "      input,label = data[0].to(device),data[1].to(device)\r\n",
        "      optimizer.zero_grad()\r\n",
        "      output = model(input.float())\r\n",
        "      _,predicted = torch.max(output.data,1)\r\n",
        "      total += label.size(0)\r\n",
        "      correct += (predicted==label).sum().item()\r\n",
        "      loss = criterion(output,label.long())\r\n",
        "      loss.backward()\r\n",
        "      optimizer.step()\r\n",
        "      current_loss+=loss.item()\r\n",
        "  \r\n",
        "  # Last run: store test, val and training accuracies\r\n",
        "  train_acc = (100*correct/total)\r\n",
        "  train_err = current_loss/(i+1)\r\n",
        "  val_acc, val_err = validate(valdata, batch, model, device)\r\n",
        "  test_acc = testing(testdata, batch, model, device)\r\n",
        "\r\n",
        "  return train_acc, train_err, val_acc, val_err, test_acc\r\n",
        "  \r\n"
      ],
      "execution_count": 6,
      "outputs": []
    },
    {
      "cell_type": "code",
      "metadata": {
        "id": "2tSDb_YFEoBR"
      },
      "source": [
        "# Validates model\r\n",
        "def validate(valdata, batch, model, device):\r\n",
        "  valloader = torch.utils.data.DataLoader(valdata, batch_size=batch, shuffle=True)\r\n",
        "  criterion=nn.CrossEntropyLoss()\r\n",
        "  correct = 0\r\n",
        "  total = 0\r\n",
        "  current_loss = 0\r\n",
        "  i=0\r\n",
        "  with torch.no_grad():\r\n",
        "    for data in valloader:\r\n",
        "      input,label = data[0].to(device),data[1].to(device)\r\n",
        "      output = model(input.float())\r\n",
        "      _,predicted=torch.max(output.data,1)\r\n",
        "      total+=label.size(0)\r\n",
        "      correct += (predicted==label).sum().item()\r\n",
        "      loss=criterion(output,label.long())\r\n",
        "      current_loss+=loss.item()\r\n",
        "      i+=1\r\n",
        "  print(\"Validation Accuracy: \", (100*correct/total),\"%\")\r\n",
        "\r\n",
        "  return (100*correct/total), current_loss/(i)\r\n",
        "\r\n",
        "#testing model\r\n",
        "def testing(testdata, batch, model, device):\r\n",
        "  testloader = torch.utils.data.DataLoader(testdata, batch_size=batch, shuffle=True)\r\n",
        "  criterion=nn.CrossEntropyLoss()\r\n",
        "  correct=0\r\n",
        "  total=0\r\n",
        "  i=0\r\n",
        "  with torch.no_grad():\r\n",
        "    for data in testloader:\r\n",
        "      input,label = data[0].to(device), data[1].to(device)\r\n",
        "      output = model(input.float())\r\n",
        "      _,predicted = torch.max(output.data,1)\r\n",
        "      total += label.size(0)\r\n",
        "      correct += (predicted==label).sum().item()\r\n",
        "      i+=1\r\n",
        "  print(\"Testing Accuracy: \", (100*correct/total),\"%\")\r\n",
        "\r\n",
        "  return (100*correct/total)"
      ],
      "execution_count": 7,
      "outputs": []
    },
    {
      "cell_type": "markdown",
      "metadata": {
        "id": "9JaNjTkCAqUG"
      },
      "source": [
        "# Run"
      ]
    },
    {
      "cell_type": "code",
      "metadata": {
        "id": "wg4iKr6vBG0d",
        "colab": {
          "base_uri": "https://localhost:8080/"
        },
        "outputId": "22182989-cf78-45f8-8e6a-44082e6a6a40"
      },
      "source": [
        "'''MNIST 2 '''\r\n",
        "# Train the network using the parameter settings above \r\n",
        "torch.manual_seed(0)\r\n",
        "torch.set_deterministic(True)\r\n",
        "batch= 256\r\n",
        "learning_rate=0.0001\r\n",
        "epochs= 100\r\n",
        "device = torch.device(\"cuda:0\" if torch.cuda.is_available() else \"cpu\")\r\n",
        "CNN2=CNN()\r\n",
        "CNN2.to(device)\r\n",
        "train_acc2, train_loss2, val_acc2, val_loss2, test_acc2 = train(learning_rate, epochs, traindata2, valdata2, testdata2, CNN2, device, batch)"
      ],
      "execution_count": 8,
      "outputs": [
        {
          "output_type": "stream",
          "text": [
            "Validation Accuracy:  93.32663316582915 %\n",
            "Testing Accuracy:  92.84 %\n"
          ],
          "name": "stdout"
        }
      ]
    },
    {
      "cell_type": "code",
      "metadata": {
        "id": "9If2lLv1A2ql"
      },
      "source": [
        "'''MNIST 1 '''\r\n",
        " \r\n",
        "torch.manual_seed(0)\r\n",
        "torch.set_deterministic(True)\r\n",
        "batch= 256\r\n",
        "learning_rate=0.0001\r\n",
        "epochs= 100\r\n",
        "device = torch.device(\"cuda:0\" if torch.cuda.is_available() else \"cpu\")\r\n",
        "CNN1=CNN()\r\n",
        "CNN1.to(device)\r\n",
        "train_acc1, train_loss2, val_acc1, val_loss2, test_err1 = train(learning_rate, epochs, traindata1, valdata1, testdata1, CNN1, device, batch)"
      ],
      "execution_count": 9,
      "outputs": []
    },
    {
      "cell_type": "markdown",
      "metadata": {
        "id": "4ENVgxrfJRxm"
      },
      "source": [
        "# Transfer Learning vs Random Initialization"
      ]
    },
    {
      "cell_type": "code",
      "metadata": {
        "id": "0yK5kDwhJURH"
      },
      "source": [
        "from tqdm import tqdm\r\n",
        "\r\n",
        "#initialize the list which will store all the accuracies and loss for each percentages\r\n",
        "l = len(traindata1)\r\n",
        "test_accs = []\r\n",
        "train_accs = []\r\n",
        "val_accs = []\r\n",
        "train_errs = []\r\n",
        "val_errs = []\r\n",
        "\r\n",
        "pre_test_accs = []\r\n",
        "pre_train_accs = []\r\n",
        "pre_val_accs = []\r\n",
        "pre_train_errs = []\r\n",
        "pre_val_errs = []\r\n",
        "\r\n",
        "'''Compare random vs transfer learning for 5,10,...100% Fashion MNIST-1 training sets.'''\r\n",
        "for i in tqdm(range(1, 21)):\r\n",
        "  perc_traindata = traindata1[:int(l*5*i/100)] #Percentage of Fashion MNIST-1\r\n",
        "\r\n",
        "  #Initialize all layers to the trained CNN2 layers except for the classifier layer fc3\r\n",
        "  pre_CNN = CNN()\r\n",
        "  pre_CNN.to(device)\r\n",
        "  pre_CNN.conv1.weight.data = CNN2.conv1.weight.data\r\n",
        "  pre_CNN.conv2.weight.data = CNN2.conv2.weight.data\r\n",
        "  pre_CNN.fc1.weight.data = CNN2.fc1.weight.data\r\n",
        "  pre_CNN.fc2.weight.data = CNN2.fc2.weight.data\r\n",
        "\r\n",
        "  pre_train_acc, pre_train_err, pre_val_acc, pre_val_err, pre_test_acc = train(learning_rate, epochs, perc_traindata, valdata1, testdata1, pre_CNN, device, batch)\r\n",
        "  pre_test_accs.append(pre_test_acc)\r\n",
        "  pre_train_accs.append(pre_train_acc)\r\n",
        "  pre_train_errs.append(pre_train_err)\r\n",
        "  pre_val_accs.append(pre_val_acc)\r\n",
        "  pre_val_errs.append(pre_val_err)\r\n",
        "\r\n",
        "  #Randomly initialized new CNN instance\r\n",
        "  CNN_1=CNN()\r\n",
        "  CNN_1.to(device)\r\n",
        "  train_acc1, train_err1, val_acc1, val_err1, test_acc1 = train(learning_rate, epochs, perc_traindata, valdata1, testdata1, CNN_1, device, batch)\r\n",
        "  test_accs.append(test_acc1)\r\n",
        "  train_accs.append(train_acc1)\r\n",
        "  val_accs.append(val_acc1)\r\n",
        "  train_errs.append(train_err1)\r\n",
        "  val_errs.append(val_err1)\r\n"
      ],
      "execution_count": null,
      "outputs": []
    },
    {
      "cell_type": "markdown",
      "metadata": {
        "id": "OJlt2wYZnGPc"
      },
      "source": [
        "# Plots"
      ]
    },
    {
      "cell_type": "code",
      "metadata": {
        "id": "0iJaduronMIt",
        "colab": {
          "base_uri": "https://localhost:8080/",
          "height": 279
        },
        "outputId": "4545faac-ac1b-4846-a548-b7bed20afa96"
      },
      "source": [
        "# Training loss Plots\r\n",
        "import matplotlib.pyplot as plt\r\n",
        "\r\n",
        "ind = ['5', '10', '15', '20', '25', '30','35', '40', '45', '50','55', '60','65', '70','75', '80','85', '90','95', '100']\r\n",
        "fig, ax = plt.subplots()\r\n",
        "ax.plot(ind, pre_train_errs, label = 'Pre-trained CNN')\r\n",
        "ax.plot(ind, train_errs, label = 'CNN')\r\n",
        "ax.set_xlabel(\"Percentage of training data\")\r\n",
        "ax.set_ylabel(\"Loss\")\r\n",
        "ax.legend(loc=\"upper right\")\r\n",
        "ax.spines['right'].set_visible(False)\r\n",
        "ax.spines['top'].set_visible(False)"
      ],
      "execution_count": 17,
      "outputs": [
        {
          "output_type": "display_data",
          "data": {
            "image/png": "[encoded data removed]",
            "text/plain": [
              "<Figure size 432x288 with 1 Axes>"
            ]
          },
          "metadata": {
            "tags": [],
            "needs_background": "light"
          }
        }
      ]
    },
    {
      "cell_type": "code",
      "metadata": {
        "id": "ehQmPyF0nMQT",
        "colab": {
          "base_uri": "https://localhost:8080/",
          "height": 279
        },
        "outputId": "0369e608-4d85-4c36-a4bf-7a4f702f7951"
      },
      "source": [
        "#Validation loss plots\r\n",
        "ind = ['5', '10', '15', '20', '25', '30','35', '40', '45', '50','55', '60','65', '70','75', '80','85', '90','95', '100']\r\n",
        "fig, ax = plt.subplots()\r\n",
        "ax.plot(ind, pre_val_errs, label = 'Pre-trained CNN')\r\n",
        "ax.plot(ind, val_errs, label = 'CNN')\r\n",
        "ax.set_xlabel(\"Percentage of training data\")\r\n",
        "ax.set_ylabel(\"Loss\")\r\n",
        "ax.legend(loc=\"upper right\")\r\n",
        "ax.spines['right'].set_visible(False)\r\n",
        "ax.spines['top'].set_visible(False)"
      ],
      "execution_count": 15,
      "outputs": [
        {
          "output_type": "display_data",
          "data": {
            "image/png": "[encoded data removed]",
            "text/plain": [
              "<Figure size 432x288 with 1 Axes>"
            ]
          },
          "metadata": {
            "tags": [],
            "needs_background": "light"
          }
        }
      ]
    },
    {
      "cell_type": "markdown",
      "metadata": {
        "id": "LCro7jF9n7er"
      },
      "source": [
        "# Best Models"
      ]
    },
    {
      "cell_type": "code",
      "metadata": {
        "colab": {
          "base_uri": "https://localhost:8080/"
        },
        "id": "CqdGCB5Bn9HH",
        "outputId": "bd637ca2-7c87-4579-d8f8-50b89af194d0"
      },
      "source": [
        "# best_i = np.argmin(val_errs)\r\n",
        "# pre_best_i = np.argmin(pre_val_errs)\r\n",
        "\r\n",
        "# print( \"The best model using transfer learning was when using {}%, with validation accuracy of {}, training accuracy of {} and test accuracy of {}\".format(str(pre_best_i * 5), pre_val_accs[pre_best_i], pre_train_accs[pre_best_i], pre_test_accs[pre_best_i]))\r\n",
        "\r\n",
        "# print(\"The best model for random initialization was when using {}%, with validation accuracy of {}, training accuracy of {} and test accuracy of {}\".format(str(best_i * 5), val_accs[best_i], train_accs[best_i], test_accs[best_i]))\r\n",
        "\r\n",
        "\r\n",
        "\r\n",
        "\r\n"
      ],
      "execution_count": 21,
      "outputs": [
        {
          "output_type": "stream",
          "text": [
            "The best model using transfer learning was when using 85, with validation accuracy of 98.82587064676616, training accuracy of 99.93326511545135 and test accuracy of 98.68\n",
            "The best model for random initialization was when using 60, with validation accuracy of 98.60696517412936, training accuracy of 99.77822953243393 and test accuracy of 98.22\n"
          ],
          "name": "stdout"
        }
      ]
    },
    {
      "cell_type": "code",
      "metadata": {
        "id": "-stfuoOXiUO2"
      },
      "source": [
        ""
      ],
      "execution_count": null,
      "outputs": []
    }
  ]
}